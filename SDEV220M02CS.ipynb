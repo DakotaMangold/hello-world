{
 "cells": [
  {
   "cell_type": "code",
   "execution_count": 1,
   "id": "b6881978-f0c7-471b-91dc-1bee434bff27",
   "metadata": {},
   "outputs": [
    {
     "name": "stdin",
     "output_type": "stream",
     "text": [
      "Enter student's last name (or ZZZ to quit):  Mangold\n",
      "Enter student's first name:  Dakota\n",
      "Enter student's GPA:  3.0\n"
     ]
    },
    {
     "name": "stdout",
     "output_type": "stream",
     "text": [
      "Dakota Mangold does not qualify for Dean's List or Honor Roll.\n"
     ]
    },
    {
     "name": "stdin",
     "output_type": "stream",
     "text": [
      "Enter student's last name (or ZZZ to quit):  Gerry\n",
      "Enter student's first name:  Frederic\n",
      "Enter student's GPA:  3.3\n"
     ]
    },
    {
     "name": "stdout",
     "output_type": "stream",
     "text": [
      "Frederic Gerry has made the Honor Roll.\n"
     ]
    },
    {
     "name": "stdin",
     "output_type": "stream",
     "text": [
      "Enter student's last name (or ZZZ to quit):  Gore\n",
      "Enter student's first name:  Jesse\n",
      "Enter student's GPA:  3.5\n"
     ]
    },
    {
     "name": "stdout",
     "output_type": "stream",
     "text": [
      "Jesse Gore has made the Dean's List.\n"
     ]
    },
    {
     "name": "stdin",
     "output_type": "stream",
     "text": [
      "Enter student's last name (or ZZZ to quit):  Rice\n",
      "Enter student's first name:  Gillian\n",
      "Enter student's GPA:  3.25\n"
     ]
    },
    {
     "name": "stdout",
     "output_type": "stream",
     "text": [
      "Gillian Rice has made the Honor Roll.\n"
     ]
    },
    {
     "name": "stdin",
     "output_type": "stream",
     "text": [
      "Enter student's last name (or ZZZ to quit):  Kocon\n",
      "Enter student's first name:  Marguerite\n",
      "Enter student's GPA:  3.5\n"
     ]
    },
    {
     "name": "stdout",
     "output_type": "stream",
     "text": [
      "Marguerite Kocon has made the Dean's List.\n"
     ]
    },
    {
     "name": "stdin",
     "output_type": "stream",
     "text": [
      "Enter student's last name (or ZZZ to quit):  ZZZ\n"
     ]
    },
    {
     "name": "stdout",
     "output_type": "stream",
     "text": [
      "Exiting program...\n"
     ]
    }
   ],
   "source": [
    "### def main():\n",
    "    while True:\n",
    "        last_name = input(\"Enter student's last name (or ZZZ to quit): \")\n",
    "        if last_name.upper() == \"ZZZ\":\n",
    "            print(\"Exiting program...\")\n",
    "            break\n",
    "        first_name = input(\"Enter student's first name: \")\n",
    "        try:\n",
    "            gpa = float(input(\"Enter student's GPA: \"))\n",
    "        except ValueError:\n",
    "            print(\"Invalid input. GPA must be a number.\")\n",
    "            continue\n",
    "\n",
    "        if gpa >= 3.5:\n",
    "            print(f\"{first_name} {last_name} has made the Dean's List.\")\n",
    "        elif gpa >= 3.25:\n",
    "            print(f\"{first_name} {last_name} has made the Honor Roll.\")\n",
    "        else:\n",
    "            print(f\"{first_name} {last_name} does not qualify for Dean's List or Honor Roll.\")\n",
    "\n",
    "if __name__ == \"__main__\":\n",
    "    main()"
   ]
  },
  {
   "cell_type": "code",
   "execution_count": null,
   "id": "714f9573-c59d-4da8-8430-accc64726062",
   "metadata": {},
   "outputs": [],
   "source": []
  }
 ],
 "metadata": {
  "kernelspec": {
   "display_name": "Python 3 (ipykernel)",
   "language": "python",
   "name": "python3"
  },
  "language_info": {
   "codemirror_mode": {
    "name": "ipython",
    "version": 3
   },
   "file_extension": ".py",
   "mimetype": "text/x-python",
   "name": "python",
   "nbconvert_exporter": "python",
   "pygments_lexer": "ipython3",
   "version": "3.13.5"
  }
 },
 "nbformat": 4,
 "nbformat_minor": 5
}
