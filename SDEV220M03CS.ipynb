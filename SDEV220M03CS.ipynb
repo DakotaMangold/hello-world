{
 "cells": [
  {
   "cell_type": "code",
   "execution_count": 7,
   "id": "259da493-02c4-4bb6-a605-229f4dfc40f7",
   "metadata": {},
   "outputs": [
    {
     "name": "stdout",
     "output_type": "stream",
     "text": [
      "Please enter details for your car:\n"
     ]
    },
    {
     "name": "stdin",
     "output_type": "stream",
     "text": [
      "Year:  2022\n",
      "Make:  Toyota\n",
      "Model:  Corolla\n",
      "Number of doors (2 or 4):  4\n",
      "Type of roof (solid or sun roof):  sun roof\n"
     ]
    },
    {
     "name": "stdout",
     "output_type": "stream",
     "text": [
      "\n",
      "Car Information:\n",
      "- Vehicle type: car\n",
      "- Year: 2022\n",
      "- Make: Toyota\n",
      "- Model: Corolla\n",
      "- Number of doors: 4\n",
      "- Type of roof: sun roof\n",
      "\n"
     ]
    }
   ],
   "source": [
    "class Vehicle:\n",
    "    def __init__(self, vehicle_type):\n",
    "        self.vehicle_type = vehicle_type\n",
    "        \n",
    "class Automobile(Vehicle):\n",
    "    def __init__(self, year, make, model, doors, roof):\n",
    "        super().__init__(\"car\")\n",
    "        self.year = year\n",
    "        self.make = make\n",
    "        self.model = model\n",
    "        self.doors = doors\n",
    "        self.roof = roof\n",
    "        \n",
    "    def dispay_info(self):\n",
    "        print(f\"- Vehicle type: {self.vehicle_type}\")\n",
    "        print(f\"- Year: {self.year}\")\n",
    "        print(f\"- Make: {self.make}\")\n",
    "        print(f\"- Model: {self.model}\")\n",
    "        print(f\"- Number of doors: {self.doors}\")\n",
    "        print(f\"- Type of roof: {self.roof}\")\n",
    "        \n",
    "    def __str__(self):\n",
    "        return (\n",
    "            f\"- Vehicle type: {self.vehicle_type}\\n\"\n",
    "            f\"- Year: {self.year}\\n\"\n",
    "            f\"- Make: {self.make}\\n\"\n",
    "            f\"- Model: {self.model}\\n\"\n",
    "            f\"- Number of doors: {self.doors}\\n\"\n",
    "            f\"- Type of roof: {self.roof}\\n\"\n",
    "        )\n",
    "        \n",
    "def get_input(prompt, validate=None):\n",
    "    while True:\n",
    "        val = input(prompt).strip()\n",
    "        if validate is None or validate(val):\n",
    "            return val\n",
    "        print(\"Invalid input, please try again.\")\n",
    "        \n",
    "def main():\n",
    "    print(\"Please enter details for your car:\")\n",
    "    year = get_input(\"Year: \")\n",
    "    make = get_input(\"Make: \")\n",
    "    model = get_input(\"Model: \")\n",
    "    \n",
    "    doors = get_input(\"Number of doors (2 or 4): \",\n",
    "                      validate=lambda v: v in {\"2\", \"4\"})\n",
    "    \n",
    "    roof = get_input(\"Type of roof (solid or sun roof): \",\n",
    "                     validate=lambda v: v.lower() in {\"solid\", \"sun roof\"}).lower()\n",
    "    \n",
    "    car = Automobile(year, make, model, doors, roof)\n",
    "    \n",
    "    print(\"\\nCar Information:\")\n",
    "    print(car)\n",
    "    \n",
    "if __name__ == \"__main__\":\n",
    "    main()"
   ]
  },
  {
   "cell_type": "code",
   "execution_count": null,
   "id": "b71593fc-9a49-47bc-a836-8ba6d70b7f4e",
   "metadata": {},
   "outputs": [],
   "source": []
  }
 ],
 "metadata": {
  "kernelspec": {
   "display_name": "Python 3 (ipykernel)",
   "language": "python",
   "name": "python3"
  },
  "language_info": {
   "codemirror_mode": {
    "name": "ipython",
    "version": 3
   },
   "file_extension": ".py",
   "mimetype": "text/x-python",
   "name": "python",
   "nbconvert_exporter": "python",
   "pygments_lexer": "ipython3",
   "version": "3.13.5"
  }
 },
 "nbformat": 4,
 "nbformat_minor": 5
}
